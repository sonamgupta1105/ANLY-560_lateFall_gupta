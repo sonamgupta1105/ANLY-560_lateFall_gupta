{
 "cells": [
  {
   "cell_type": "code",
   "execution_count": 1,
   "metadata": {},
   "outputs": [],
   "source": [
    "# Ques 1: Import pandas under the name pd\n",
    "# Importing useful libraries\n",
    "import pandas as pd\n",
    "import numpy as np"
   ]
  },
  {
   "cell_type": "code",
   "execution_count": 2,
   "metadata": {},
   "outputs": [
    {
     "data": {
      "text/plain": [
       "'0.23.4'"
      ]
     },
     "execution_count": 2,
     "metadata": {},
     "output_type": "execute_result"
    }
   ],
   "source": [
    "# Ques 2 : Print the version of pandas that has been imported.\n",
    "# Checking pandas version\n",
    "pd.__version__"
   ]
  },
  {
   "cell_type": "code",
   "execution_count": 3,
   "metadata": {},
   "outputs": [
    {
     "name": "stdout",
     "output_type": "stream",
     "text": [
      "   age animal priority  visits\n",
      "a  2.5    cat      yes       1\n",
      "b  3.0    cat      yes       3\n",
      "c  0.5  snake       no       2\n",
      "d  NaN    dog      yes       3\n",
      "e  5.0    dog       no       2\n",
      "f  2.0    cat       no       3\n",
      "g  4.5  snake       no       1\n",
      "h  NaN    cat      yes       1\n",
      "i  7.0    dog       no       2\n",
      "j  3.0    dog       no       1\n"
     ]
    }
   ],
   "source": [
    "# Ques 4 : Create a DataFrame df from this dictionary data which has the index labels.\n",
    "# Created dictionary data \n",
    "data = {'animal': ['cat', 'cat', 'snake', 'dog', 'dog', 'cat', 'snake', 'cat', 'dog', 'dog'],\n",
    "        'age': [2.5, 3, 0.5, np.nan, 5, 2, 4.5, np.nan, 7, 3],\n",
    "        'visits': [1, 3, 2, 3, 2, 3, 1, 1, 2, 1],\n",
    "        'priority': ['yes', 'yes', 'no', 'yes', 'no', 'no', 'no', 'yes', 'no', 'no']\n",
    "       }\n",
    "\n",
    "# List of labels\n",
    "labels = ['a', 'b', 'c', 'd', 'e', 'f', 'g', 'h', 'i', 'j']\n",
    "\n",
    "# Creating dataframe from the above dictionary\n",
    "data_df = pd.DataFrame(data, index = labels)\n",
    "\n",
    "# Print dataframe\n",
    "print(data_df)"
   ]
  },
  {
   "cell_type": "code",
   "execution_count": 4,
   "metadata": {},
   "outputs": [
    {
     "data": {
      "text/html": [
       "<div>\n",
       "<style scoped>\n",
       "    .dataframe tbody tr th:only-of-type {\n",
       "        vertical-align: middle;\n",
       "    }\n",
       "\n",
       "    .dataframe tbody tr th {\n",
       "        vertical-align: top;\n",
       "    }\n",
       "\n",
       "    .dataframe thead th {\n",
       "        text-align: right;\n",
       "    }\n",
       "</style>\n",
       "<table border=\"1\" class=\"dataframe\">\n",
       "  <thead>\n",
       "    <tr style=\"text-align: right;\">\n",
       "      <th></th>\n",
       "      <th>age</th>\n",
       "      <th>visits</th>\n",
       "    </tr>\n",
       "  </thead>\n",
       "  <tbody>\n",
       "    <tr>\n",
       "      <th>count</th>\n",
       "      <td>8.000000</td>\n",
       "      <td>10.000000</td>\n",
       "    </tr>\n",
       "    <tr>\n",
       "      <th>mean</th>\n",
       "      <td>3.437500</td>\n",
       "      <td>1.900000</td>\n",
       "    </tr>\n",
       "    <tr>\n",
       "      <th>std</th>\n",
       "      <td>2.007797</td>\n",
       "      <td>0.875595</td>\n",
       "    </tr>\n",
       "    <tr>\n",
       "      <th>min</th>\n",
       "      <td>0.500000</td>\n",
       "      <td>1.000000</td>\n",
       "    </tr>\n",
       "    <tr>\n",
       "      <th>25%</th>\n",
       "      <td>2.375000</td>\n",
       "      <td>1.000000</td>\n",
       "    </tr>\n",
       "    <tr>\n",
       "      <th>50%</th>\n",
       "      <td>3.000000</td>\n",
       "      <td>2.000000</td>\n",
       "    </tr>\n",
       "    <tr>\n",
       "      <th>75%</th>\n",
       "      <td>4.625000</td>\n",
       "      <td>2.750000</td>\n",
       "    </tr>\n",
       "    <tr>\n",
       "      <th>max</th>\n",
       "      <td>7.000000</td>\n",
       "      <td>3.000000</td>\n",
       "    </tr>\n",
       "  </tbody>\n",
       "</table>\n",
       "</div>"
      ],
      "text/plain": [
       "            age     visits\n",
       "count  8.000000  10.000000\n",
       "mean   3.437500   1.900000\n",
       "std    2.007797   0.875595\n",
       "min    0.500000   1.000000\n",
       "25%    2.375000   1.000000\n",
       "50%    3.000000   2.000000\n",
       "75%    4.625000   2.750000\n",
       "max    7.000000   3.000000"
      ]
     },
     "execution_count": 4,
     "metadata": {},
     "output_type": "execute_result"
    }
   ],
   "source": [
    "# Ques 5 : Display a summary of the basic information about this DataFrame and its data.\n",
    "\n",
    "# Using describe func for pandas, printing the summary of data_df built from dictionary and list created above\n",
    "data_df.describe()"
   ]
  },
  {
   "cell_type": "code",
   "execution_count": 5,
   "metadata": {},
   "outputs": [
    {
     "name": "stdout",
     "output_type": "stream",
     "text": [
      "   age animal priority  visits\n",
      "a  2.5    cat      yes       1\n",
      "b  3.0    cat      yes       3\n",
      "c  0.5  snake       no       2\n"
     ]
    }
   ],
   "source": [
    "# Ques 6 :  Return the first 3 rows of the DataFrame df.\n",
    "\n",
    "# printing the first 3 rows using head() and passing 3 as parameter as we want first 3 rows\n",
    "print(data_df.head(3))"
   ]
  },
  {
   "cell_type": "code",
   "execution_count": 6,
   "metadata": {},
   "outputs": [
    {
     "name": "stdout",
     "output_type": "stream",
     "text": [
      "a      cat\n",
      "b      cat\n",
      "c    snake\n",
      "d      dog\n",
      "e      dog\n",
      "f      cat\n",
      "g    snake\n",
      "h      cat\n",
      "i      dog\n",
      "j      dog\n",
      "Name: animal, dtype: object\n",
      "a    2.5\n",
      "b    3.0\n",
      "c    0.5\n",
      "d    NaN\n",
      "e    5.0\n",
      "f    2.0\n",
      "g    4.5\n",
      "h    NaN\n",
      "i    7.0\n",
      "j    3.0\n",
      "Name: age, dtype: float64\n"
     ]
    }
   ],
   "source": [
    "# Ques 7 : Select just the 'animal' and 'age' columns from the DataFrame df.\n",
    "\n",
    "# Selecting the specific columns by passing the column name from dataframe\n",
    "print(data_df['animal'])\n",
    "print(data_df['age'])"
   ]
  },
  {
   "cell_type": "code",
   "execution_count": 7,
   "metadata": {},
   "outputs": [
    {
     "name": "stdout",
     "output_type": "stream",
     "text": [
      "  animal  age\n",
      "c  snake  0.5\n",
      "d    dog  NaN\n",
      "h    cat  NaN\n"
     ]
    }
   ],
   "source": [
    " # Ques 8 : Select the data in rows [3, 4, 8] and in columns ['animal', 'age'].\n",
    "\n",
    "# Print rows data from particular columns using loc()\n",
    "print(data_df.loc[['c', 'd', 'h'],['animal', 'age']])"
   ]
  },
  {
   "cell_type": "code",
   "execution_count": 8,
   "metadata": {},
   "outputs": [
    {
     "name": "stdout",
     "output_type": "stream",
     "text": [
      "Empty DataFrame\n",
      "Columns: [age, animal, priority, visits]\n",
      "Index: []\n"
     ]
    }
   ],
   "source": [
    "# Ques 9 : Select only the rows where the number of visits is greater than 3.\n",
    "\n",
    "# Using loc() print all the rows from all columns based on the condition for visits > 3\n",
    "visits3 = data_df.loc[data_df['visits'] > 3]\n",
    "print(visits3) # Result is empty dataframe because there are no values for visits column which are > 3"
   ]
  },
  {
   "cell_type": "code",
   "execution_count": 9,
   "metadata": {},
   "outputs": [
    {
     "name": "stdout",
     "output_type": "stream",
     "text": [
      "   age animal priority  visits\n",
      "d  NaN    dog      yes       3\n",
      "h  NaN    cat      yes       1\n"
     ]
    }
   ],
   "source": [
    "# Ques 10 : Select the rows where the age is missing, i.e. is NaN.\n",
    "\n",
    "# using isnull() we can see which are those rows that column 'age' is  NaN for \n",
    "ages_none = data_df.loc[data_df['age'].isnull()]\n",
    "print(ages_none)"
   ]
  },
  {
   "cell_type": "code",
   "execution_count": 10,
   "metadata": {},
   "outputs": [
    {
     "name": "stdout",
     "output_type": "stream",
     "text": [
      "   age animal priority  visits\n",
      "a  2.5    cat      yes       1\n",
      "f  2.0    cat       no       3\n"
     ]
    }
   ],
   "source": [
    "# Ques 11: Select the rows where the animal is a cat and the age is less than 3.\n",
    "\n",
    "# Selecting data based on animal being cat and age < 3 using loc()\n",
    "cat_3 = data_df.loc[(data_df['animal'] == 'cat') & (data_df['age'] < 3)]\n",
    "print(cat_3)"
   ]
  },
  {
   "cell_type": "code",
   "execution_count": 11,
   "metadata": {},
   "outputs": [
    {
     "name": "stdout",
     "output_type": "stream",
     "text": [
      "   age animal priority  visits\n",
      "a  2.5    cat      yes       1\n",
      "b  3.0    cat      yes       3\n",
      "f  2.0    cat       no       3\n",
      "j  3.0    dog       no       1\n"
     ]
    }
   ],
   "source": [
    "# Ques 12 : Select the rows the age is between 2 and 4 (inclusive).\n",
    "\n",
    "# selecting data based on inclusive conditions\n",
    "age_2_4 = data_df[data_df['age'].between(2,4)]\n",
    "print(age_2_4)"
   ]
  },
  {
   "cell_type": "code",
   "execution_count": 12,
   "metadata": {},
   "outputs": [
    {
     "name": "stdout",
     "output_type": "stream",
     "text": [
      "a    2.5\n",
      "b    3.0\n",
      "c    0.5\n",
      "d    NaN\n",
      "e    5.0\n",
      "f    1.5\n",
      "g    4.5\n",
      "h    NaN\n",
      "i    7.0\n",
      "j    3.0\n",
      "Name: age, dtype: float64\n"
     ]
    }
   ],
   "source": [
    "# Ques 13 : Change the age in row 'f' to 1.5.\n",
    "\n",
    "# changing a value in row for a particular row\n",
    "#field_age = data_df.loc['f']['age']\n",
    "\n",
    "data_df.loc['f', 'age'] = 1.5\n",
    "print(data_df['age'])"
   ]
  },
  {
   "cell_type": "code",
   "execution_count": 13,
   "metadata": {},
   "outputs": [
    {
     "name": "stdout",
     "output_type": "stream",
     "text": [
      "19\n"
     ]
    }
   ],
   "source": [
    "# Ques 14 : Calculate the sum of all visits (the total number of visits).\n",
    "\n",
    "# calculate the sum of elements in a column using sum()\n",
    "print(data_df['visits'].sum())"
   ]
  },
  {
   "cell_type": "code",
   "execution_count": 14,
   "metadata": {},
   "outputs": [
    {
     "name": "stdout",
     "output_type": "stream",
     "text": [
      "animal\n",
      "cat      2.333333\n",
      "dog      5.000000\n",
      "snake    2.500000\n",
      "Name: age, dtype: float64\n"
     ]
    }
   ],
   "source": [
    "# Ques 15 : Calculate the mean age for each different animal in df.\n",
    "print(data_df.groupby('animal')['age'].mean())"
   ]
  },
  {
   "cell_type": "code",
   "execution_count": 15,
   "metadata": {},
   "outputs": [
    {
     "name": "stdout",
     "output_type": "stream",
     "text": [
      "   age animal priority  visits\n",
      "a  2.5    cat      yes       1\n",
      "b  3.0    cat      yes       3\n",
      "c  0.5  snake       no       2\n",
      "d  NaN    dog      yes       3\n",
      "e  5.0    dog       no       2\n",
      "f  1.5    cat       no       3\n",
      "g  4.5  snake       no       1\n",
      "h  NaN    cat      yes       1\n",
      "i  7.0    dog       no       2\n",
      "j  3.0    dog       no       1\n"
     ]
    }
   ],
   "source": [
    "# Ques 16 : Append a new row 'k' to df with your choice of values for each column. Then delete that row to return the original DataFrame.\n",
    "\n",
    "data_df.loc['k'] = [4.5, 'dog', 'no', 2]\n",
    "data_df = data_df.drop('k')\n",
    "print(data_df)"
   ]
  },
  {
   "cell_type": "code",
   "execution_count": 16,
   "metadata": {},
   "outputs": [
    {
     "name": "stdout",
     "output_type": "stream",
     "text": [
      "cat      4\n",
      "dog      4\n",
      "snake    2\n",
      "Name: animal, dtype: int64\n"
     ]
    }
   ],
   "source": [
    "# Ques 17 :  Count the number of each type of animal in df\n",
    "data_df['animal'].count() # Total number of animals in the data\n",
    "print(data_df['animal'].value_counts()) # Returns the count of each animal in the data"
   ]
  },
  {
   "cell_type": "code",
   "execution_count": 17,
   "metadata": {},
   "outputs": [
    {
     "name": "stdout",
     "output_type": "stream",
     "text": [
      "   age animal priority  visits\n",
      "i  7.0    dog       no       2\n",
      "e  5.0    dog       no       2\n",
      "g  4.5  snake       no       1\n",
      "j  3.0    dog       no       1\n",
      "b  3.0    cat      yes       3\n",
      "a  2.5    cat      yes       1\n",
      "f  1.5    cat       no       3\n",
      "c  0.5  snake       no       2\n",
      "h  NaN    cat      yes       1\n",
      "d  NaN    dog      yes       3\n"
     ]
    }
   ],
   "source": [
    "# Ques 18 : Sort df first by the values in the 'age' in decending order, then by the value in the 'visit' column in ascending order.\n",
    "\n",
    "# Using sort_values() to sort by different columns in different orders\n",
    "print(data_df.sort_values(by = ['age', 'visits'], ascending=[False, True]))"
   ]
  },
  {
   "cell_type": "code",
   "execution_count": 18,
   "metadata": {},
   "outputs": [
    {
     "data": {
      "text/plain": [
       "a     True\n",
       "b     True\n",
       "c    False\n",
       "d     True\n",
       "e    False\n",
       "f    False\n",
       "g    False\n",
       "h     True\n",
       "i    False\n",
       "j    False\n",
       "Name: priority, dtype: bool"
      ]
     },
     "execution_count": 18,
     "metadata": {},
     "output_type": "execute_result"
    }
   ],
   "source": [
    "# Ques 19 : The 'priority' column contains the values 'yes' and 'no'. Replace this column with a column of boolean values: 'yes' should be True and 'no' should be False.\n",
    "data_df['priority'] = data_df['priority'].map({'yes' : True, 'no' : False})\n",
    "data_df['priority']"
   ]
  },
  {
   "cell_type": "code",
   "execution_count": 19,
   "metadata": {},
   "outputs": [
    {
     "data": {
      "text/plain": [
       "a       cat\n",
       "b       cat\n",
       "c    python\n",
       "d       dog\n",
       "e       dog\n",
       "f       cat\n",
       "g    python\n",
       "h       cat\n",
       "i       dog\n",
       "j       dog\n",
       "Name: animal, dtype: object"
      ]
     },
     "execution_count": 19,
     "metadata": {},
     "output_type": "execute_result"
    }
   ],
   "source": [
    "# Ques 20 :  In the 'animal' column, change the 'snake' entries to 'python'.\n",
    "data_df['animal'].replace('snake', 'python')"
   ]
  },
  {
   "cell_type": "code",
   "execution_count": 20,
   "metadata": {},
   "outputs": [
    {
     "data": {
      "text/html": [
       "<div>\n",
       "<style scoped>\n",
       "    .dataframe tbody tr th:only-of-type {\n",
       "        vertical-align: middle;\n",
       "    }\n",
       "\n",
       "    .dataframe tbody tr th {\n",
       "        vertical-align: top;\n",
       "    }\n",
       "\n",
       "    .dataframe thead th {\n",
       "        text-align: right;\n",
       "    }\n",
       "</style>\n",
       "<table border=\"1\" class=\"dataframe\">\n",
       "  <thead>\n",
       "    <tr style=\"text-align: right;\">\n",
       "      <th>visits</th>\n",
       "      <th>1</th>\n",
       "      <th>2</th>\n",
       "      <th>3</th>\n",
       "    </tr>\n",
       "    <tr>\n",
       "      <th>animal</th>\n",
       "      <th></th>\n",
       "      <th></th>\n",
       "      <th></th>\n",
       "    </tr>\n",
       "  </thead>\n",
       "  <tbody>\n",
       "    <tr>\n",
       "      <th>cat</th>\n",
       "      <td>2.5</td>\n",
       "      <td>NaN</td>\n",
       "      <td>2.25</td>\n",
       "    </tr>\n",
       "    <tr>\n",
       "      <th>dog</th>\n",
       "      <td>3.0</td>\n",
       "      <td>6.0</td>\n",
       "      <td>NaN</td>\n",
       "    </tr>\n",
       "    <tr>\n",
       "      <th>snake</th>\n",
       "      <td>4.5</td>\n",
       "      <td>0.5</td>\n",
       "      <td>NaN</td>\n",
       "    </tr>\n",
       "  </tbody>\n",
       "</table>\n",
       "</div>"
      ],
      "text/plain": [
       "visits    1    2     3\n",
       "animal                \n",
       "cat     2.5  NaN  2.25\n",
       "dog     3.0  6.0   NaN\n",
       "snake   4.5  0.5   NaN"
      ]
     },
     "execution_count": 20,
     "metadata": {},
     "output_type": "execute_result"
    }
   ],
   "source": [
    "# Ques 21 : For each animal type and each number of visits, find the mean age. In other words, each row is an animal, each column is a number of visits and the values are the mean ages (hint: use a pivot table).\n",
    "\n",
    "# Pandas have pivot_table() which works exactly like pivot function in Excel. WIth the help of this function, the following command\n",
    "# answers the question to calculate mean age based on visits and animal columns\n",
    "data_df.pivot_table(index='animal', columns='visits', values= 'age', aggfunc= 'mean')"
   ]
  },
  {
   "cell_type": "code",
   "execution_count": 21,
   "metadata": {},
   "outputs": [
    {
     "name": "stdout",
     "output_type": "stream",
     "text": [
      "    A\n",
      "0   1\n",
      "1   2\n",
      "2   2\n",
      "3   3\n",
      "4   4\n",
      "5   5\n",
      "6   5\n",
      "7   5\n",
      "8   6\n",
      "9   7\n",
      "10  7\n",
      "   A\n",
      "0  1\n",
      "1  2\n",
      "3  3\n",
      "4  4\n",
      "5  5\n",
      "8  6\n",
      "9  7\n"
     ]
    }
   ],
   "source": [
    "# Ques 22 : You have a DataFrame df with a column 'A' of integers. How do you filter out rows which contain the same integer as the row immediately above?\n",
    "df = pd.DataFrame({'A': [1, 2, 2, 3, 4, 5, 5, 5, 6, 7, 7]})\n",
    "print(df)\n",
    "# Filtering the rows that contain the same integer as the row above it\n",
    "#for row in df:\n",
    "#df['A'] = np.roll(df['A'], 1)\n",
    "#print(df['A'])\n",
    "\n",
    "# using shift() lets us to shift and then compare with the value in row above\n",
    "# Ref: https://stackoverflow.com/questions/10982089/how-to-shift-a-column-in-pandas-dataframe\n",
    "df_filtered = df.loc[df['A'].shift() != df['A']]\n",
    "print(df_filtered)"
   ]
  },
  {
   "cell_type": "code",
   "execution_count": 22,
   "metadata": {},
   "outputs": [
    {
     "name": "stdout",
     "output_type": "stream",
     "text": [
      "          0         1         2\n",
      "0  0.696108  0.263090  0.261207\n",
      "1  0.024908  0.614849  0.658864\n",
      "2  0.086085  0.564240  0.588438\n",
      "3  0.738282  0.877405  0.163837\n",
      "4  0.374417  0.727827  0.102938\n",
      "          0         1         2\n",
      "0  0.289307 -0.143711 -0.145595\n",
      "1 -0.407966  0.181975  0.225990\n",
      "2 -0.326836  0.151319  0.175517\n",
      "3  0.145108  0.284230 -0.429338\n",
      "4 -0.027310  0.326099 -0.298789\n"
     ]
    }
   ],
   "source": [
    "# Ques 23 :  Given a DataFrame of numeric values,how do you subtract the row mean from each element in the row?\n",
    "\n",
    "df = pd.DataFrame(np.random.random(size=(5, 3))) # a 5x3 frame of float values\n",
    "print(df)\n",
    "# Ref: https://stackoverflow.com/questions/22149584/what-does-axis-in-pandas-mean\n",
    "sub_row = df.sub(df.mean(axis=1), axis=0)\n",
    "print(sub_row)"
   ]
  },
  {
   "cell_type": "code",
   "execution_count": 23,
   "metadata": {},
   "outputs": [
    {
     "name": "stdout",
     "output_type": "stream",
     "text": [
      "          a         b         c         d         e         f         g  \\\n",
      "0  0.827736  0.843949  0.529084  0.233158  0.200235  0.176956  0.606817   \n",
      "1  0.621886  0.978271  0.481454  0.718197  0.521788  0.913511  0.055710   \n",
      "2  0.779972  0.171471  0.814126  0.152299  0.955257  0.572613  0.358640   \n",
      "3  0.397710  0.356089  0.080549  0.998356  0.479778  0.528546  0.239686   \n",
      "4  0.538706  0.095089  0.187778  0.001716  0.631773  0.929032  0.539325   \n",
      "\n",
      "          h         i         j  \n",
      "0  0.894714  0.265280  0.581860  \n",
      "1  0.658273  0.272330  0.253954  \n",
      "2  0.999804  0.853832  0.232190  \n",
      "3  0.769041  0.072127  0.640036  \n",
      "4  0.778091  0.236351  0.010522  \n",
      "i\n"
     ]
    }
   ],
   "source": [
    "# Ques 24 : Suppose you have DataFrame with 10 columns of real numbers\n",
    "# Which column of numbers has the smallest sum? (Find that column's label.)\n",
    "\n",
    "df = pd.DataFrame(np.random.random(size=(5, 10)), columns=list('abcdefghij'))\n",
    "print(df)\n",
    "df_sum = df.sum().min()\n",
    "#print(df_sum)\n",
    "print(df.sum().idxmin()) # J is the column with minium sum out of others"
   ]
  },
  {
   "cell_type": "code",
   "execution_count": 24,
   "metadata": {},
   "outputs": [
    {
     "data": {
      "text/plain": [
       "5"
      ]
     },
     "execution_count": 24,
     "metadata": {},
     "output_type": "execute_result"
    }
   ],
   "source": [
    "# Ques 25 : How do you count how many unique rows a DataFrame has (i.e. ignore all rows that are duplicates)?\n",
    "df.drop_duplicates(keep=False).count() #This counts the number of rows per column\n",
    "len(df.drop_duplicates(keep=False)) # this is the count of unique rows in the df"
   ]
  },
  {
   "cell_type": "code",
   "execution_count": 25,
   "metadata": {},
   "outputs": [
    {
     "name": "stdout",
     "output_type": "stream",
     "text": [
      "0    a\n",
      "1    a\n",
      "2    a\n",
      "3    a\n",
      "4    a\n",
      "dtype: object\n"
     ]
    }
   ],
   "source": [
    "# Ques 26 : You have a DataFrame that consists of 10 columns of floating--point numbers.\n",
    "#Suppose that exactly 5 entries in each row are NaN values. For each row of the DataFrame, \n",
    "#find the column which contains the third NaN value.You should return a Series of column labels.\n",
    "\n",
    "# Ref: https://pandas.pydata.org/pandas-docs/stable/generated/pandas.Series.idxmax.html\n",
    "print((df.isna().cumsum(axis=1)==3).idxmax(axis=1))\n"
   ]
  },
  {
   "cell_type": "code",
   "execution_count": 26,
   "metadata": {},
   "outputs": [
    {
     "name": "stdout",
     "output_type": "stream",
     "text": [
      "grps\n",
      "a    409\n",
      "b    156\n",
      "c    345\n",
      "Name: vals, dtype: int64\n"
     ]
    }
   ],
   "source": [
    "# Ques 27 :  A DataFrame has a column of groups 'grps' and and column of numbers 'vals'.\n",
    "#For each group, find the sum of the three greatest values.\n",
    "df = pd.DataFrame({'grps': list('aaabbcaabcccbbc'), \n",
    "                   'vals': [12,345,3,1,45,14,4,52,54,23,235,21,57,3,87]})\n",
    "df_27 = pd.DataFrame({'grps': list('aaabbcaabcccbbc'), \n",
    "                   'vals': [12,345,3,-1,45,14,4,52,54,23,235,21,57,3,87]})\n",
    "\n",
    "# Sort the dataframe by vals since we want 3 greatest values\n",
    "df = df.sort_values('vals', ascending=False)\n",
    "\n",
    "# Find the sum of 3 greatest values, grouped by grps\n",
    "sum_vals = df.groupby('grps')['vals'].nlargest(3).sum(level=0) # WIthout level=0, it returns the sum of values for each group rather than separating\n",
    "print(sum_vals)\n"
   ]
  },
  {
   "cell_type": "code",
   "execution_count": 27,
   "metadata": {},
   "outputs": [
    {
     "name": "stdout",
     "output_type": "stream",
     "text": [
      "A\n",
      "(0, 10]       55\n",
      "(10, 20]     155\n",
      "(20, 30]     255\n",
      "(30, 40]     355\n",
      "(40, 50]     455\n",
      "(50, 60]     555\n",
      "(60, 70]     655\n",
      "(70, 80]     755\n",
      "(80, 90]     855\n",
      "(90, 100]    955\n",
      "Name: B, dtype: int64\n"
     ]
    }
   ],
   "source": [
    "# Ques 28 : A DataFrame has two integer columns 'A' and 'B'. The values in 'A' are between 1 and 100 (inclusive). \n",
    "# For each group of 10 consecutive integers in 'A' (i.e. (0, 10], (10, 20], ...),\n",
    "# calculate the sum of the corresponding values in column 'B'.\n",
    "\n",
    "# Build two lists with values ranging from 0 to 100 (inclusive)\n",
    "a = list(range(101))\n",
    "b = list(range(101))\n",
    "\n",
    "# Combine the two lists created above and make a dataframe\n",
    "df = pd.DataFrame({\n",
    "    'A' : a,\n",
    "    'B' : b\n",
    "})\n",
    "\n",
    "# Using pandas cut() , create buckets for numbers with interval of 10, group them together \n",
    "# Calculate the sum of column B\n",
    "# Ref: https://stackoverflow.com/questions/21441259/pandas-groupby-range-of-values\n",
    "print(df.groupby(pd.cut(df['A'], np.arange(0, 101, 10)))['B'].sum())\n"
   ]
  },
  {
   "cell_type": "code",
   "execution_count": 28,
   "metadata": {},
   "outputs": [
    {
     "name": "stdout",
     "output_type": "stream",
     "text": [
      "   X  Y\n",
      "0  7  1\n",
      "1  2  2\n",
      "2  0  0\n",
      "3  3  1\n",
      "4  4  2\n",
      "5  2  3\n",
      "6  5  4\n",
      "7  0  0\n",
      "8  3  1\n",
      "9  4  2\n"
     ]
    }
   ],
   "source": [
    "# Ques 29 : For each value, count the difference back to the previous zero (or the start of the Series, whichever is closer). These values should therefore be [1, 2, 0, 1, 2, 3, 4, 0, 1, 2]. Make this a new column 'Y'.\n",
    "# all are solvable using just the usual pandas/NumPy methods (and so avoid using explicit for loops)\n",
    "\n",
    "df = pd.DataFrame({'X': [7, 2, 0, 3, 4, 2, 5, 0, 3, 4]})\n",
    "\n",
    "# Ref: https://stackoverflow.com/questions/30730981/how-to-count-distance-to-the-previous-zero-in-pandas-series\n",
    "\n",
    "# Calculate length of the X column\n",
    "len_df = np.arange(len(df))\n",
    "#len_df\n",
    "\n",
    "# We need to adjust the 0th index for this question cause we have to count backward so concatenate on first axis of the dataframe\n",
    "zero_index_adjust = np.r_[-1, (df['X'] == 0).nonzero()[0]]\n",
    "\n",
    "#print(zero_index_adjust) -- [-1  2  7]\n",
    "\n",
    "# Now we count the difference back to the previous zero or the start of X\n",
    "y = len_df - zero_index_adjust[np.searchsorted(zero_index_adjust - 1, len_df) - 1]\n",
    "\n",
    "# Add y as another column in df\n",
    "df.loc[:,'Y'] = y \n",
    "print(df)"
   ]
  },
  {
   "cell_type": "code",
   "execution_count": 29,
   "metadata": {},
   "outputs": [
    {
     "name": "stdout",
     "output_type": "stream",
     "text": [
      "   X  Y\n",
      "0  7  1\n",
      "1  2  2\n",
      "2  0  0\n",
      "3  3  1\n",
      "4  4  2\n",
      "5  2  3\n",
      "6  5  4\n",
      "7  0  0\n",
      "8  3  1\n",
      "9  4  2\n",
      "[('X', 4), ('X', 6), ('X', 0)]\n"
     ]
    }
   ],
   "source": [
    "# Ques 30 : Consider a DataFrame containing rows and columns of purely numerical data. Create a list of the row-column index locations of the 3 largest values.\n",
    "\n",
    "print(df)\n",
    "\n",
    "# Sort the values of both the columns in dataframe\n",
    "# Get the index of 3 largest values and convert it to a list, therefore .index.tolist()\n",
    "df.sort_values(by='Y')[-3:].index.tolist() # THis gives the 3 largest values if we sort by the column Y\n",
    "\n",
    "# We want row-column, thus pivoting the dataframe row-column using unstack()\n",
    "\n",
    "print(df.unstack().sort_values()[-3:].index.tolist())"
   ]
  },
  {
   "cell_type": "code",
   "execution_count": 30,
   "metadata": {},
   "outputs": [
    {
     "name": "stdout",
     "output_type": "stream",
     "text": [
      "0      12.00\n",
      "1     345.00\n",
      "2       3.00\n",
      "3      39.75\n",
      "4      45.00\n",
      "5      14.00\n",
      "6       4.00\n",
      "7      52.00\n",
      "8      54.00\n",
      "9      23.00\n",
      "10    235.00\n",
      "11     21.00\n",
      "12     57.00\n",
      "13      3.00\n",
      "14     87.00\n",
      "Name: vals, dtype: float64\n"
     ]
    }
   ],
   "source": [
    "# Ques 31 :  Given a DataFrame with a column of group IDs, 'grps', and a column of corresponding integer values, 'vals', \n",
    "#replace any negative values in 'vals' with the group mean.\n",
    "\n",
    "# Calculate mean of the vals column\n",
    "mean_vals = df_27['vals'].mean()\n",
    "\n",
    "\n",
    "# Get numerical value from the dataframe\n",
    "# num = df_27._get_numeric_data()\n",
    "\n",
    "# num[num<0] = mean_vals\n",
    "\n",
    "# for val in df_27.iterrows():\n",
    "#     df_27['vals'][df_27['vals'] < 0 ] = mean_vals\n",
    "    \n",
    "# df_27\n",
    "\n",
    "# Ref: https://stackoverflow.com/questions/14760757/replacing-values-with-groupby-means\n",
    "\n",
    "def replace(group):\n",
    "    mask = group<0\n",
    "    # Select those values where it is < 0, and replace\n",
    "    # them with the mean of the values which are not < 0.\n",
    "    group[mask] = group[~mask].mean()\n",
    "    return group\n",
    "\n",
    "# Groupy the group ID column, use the replace function on vals column of the dataframe\n",
    "print(df_27.groupby(['grps'])['vals'].transform(replace))"
   ]
  },
  {
   "cell_type": "code",
   "execution_count": 41,
   "metadata": {},
   "outputs": [
    {
     "data": {
      "text/plain": [
       "0     1.000000\n",
       "1     1.500000\n",
       "2     3.000000\n",
       "3     3.000000\n",
       "4     1.666667\n",
       "5     3.000000\n",
       "6     3.000000\n",
       "7     2.000000\n",
       "8     3.666667\n",
       "9     2.000000\n",
       "10    4.500000\n",
       "11    4.000000\n",
       "Name: value, dtype: float64"
      ]
     },
     "execution_count": 41,
     "metadata": {},
     "output_type": "execute_result"
    }
   ],
   "source": [
    "# Ques 32: Implement a rolling mean over groups with window size 3, which ignores NaN value. \n",
    "df = pd.DataFrame({'group': list('aabbabbbabab'),\n",
    "                       'value': [1, 2, 3, np.nan, 2, 3, \n",
    "                                 np.nan, 1, 7, 3, np.nan, 8]})\n",
    "\n",
    "# Ref: https://stackoverflow.com/questions/13996302/python-rolling-functions-for-groupby-object\n",
    "# groupby group and value, to calculate rolling mean for window size 3\n",
    "# Calculate the mean and replace NAs with 0\n",
    "df.groupby('group')['value'].rolling(3).mean()\n",
    "'''The above approach does not ignore NAs'''\n",
    "\n",
    "# Fill NAs with 0 and group them by groups\n",
    "fill_na = df.fillna(0).groupby('group')['value']\n",
    "group_vals = df.groupby(['group'])['value']\n",
    "\n",
    "# Ref: https://stackoverflow.com/questions/36988123/pandas-groupby-and-rolling-apply-ignoring-nans\n",
    "\n",
    "# Now calculate the rolling mean with window size 3\n",
    "result = fill_na.rolling(3, min_periods = 1).sum() / group_vals.rolling(3, min_periods = 1).count()\n",
    "\n",
    "# Adjust the index to remove the other level as the dataframe has multi-index\n",
    "result.reset_index(level=0, drop=True).sort_index()\n",
    "#s.reset_index(level=0, drop=True).sort_index()  # drop/sort index"
   ]
  },
  {
   "cell_type": "code",
   "execution_count": 10,
   "metadata": {},
   "outputs": [
    {
     "data": {
      "text/plain": [
       "2015-01-01    0.446764\n",
       "2015-01-02    0.597316\n",
       "2015-01-05    0.579605\n",
       "2015-01-06    0.243205\n",
       "2015-01-07    0.507766\n",
       "2015-01-08    0.897535\n",
       "2015-01-09    0.382225\n",
       "2015-01-12    0.952601\n",
       "2015-01-13    0.641474\n",
       "2015-01-14    0.875967\n",
       "2015-01-15    0.747789\n",
       "2015-01-16    0.182200\n",
       "2015-01-19    0.928232\n",
       "2015-01-20    0.500172\n",
       "2015-01-21    0.763395\n",
       "2015-01-22    0.944488\n",
       "2015-01-23    0.077290\n",
       "2015-01-26    0.557131\n",
       "2015-01-27    0.250349\n",
       "2015-01-28    0.000583\n",
       "2015-01-29    0.190361\n",
       "2015-01-30    0.700800\n",
       "2015-02-02    0.856865\n",
       "2015-02-03    0.975104\n",
       "2015-02-04    0.579359\n",
       "2015-02-05    0.345794\n",
       "2015-02-06    0.025394\n",
       "2015-02-09    0.072902\n",
       "2015-02-10    0.670001\n",
       "2015-02-11    0.092018\n",
       "                ...   \n",
       "2015-11-20    0.871951\n",
       "2015-11-23    0.943607\n",
       "2015-11-24    0.669981\n",
       "2015-11-25    0.372529\n",
       "2015-11-26    0.200517\n",
       "2015-11-27    0.859512\n",
       "2015-11-30    0.713628\n",
       "2015-12-01    0.718319\n",
       "2015-12-02    0.866505\n",
       "2015-12-03    0.106048\n",
       "2015-12-04    0.480835\n",
       "2015-12-07    0.556804\n",
       "2015-12-08    0.270978\n",
       "2015-12-09    0.321104\n",
       "2015-12-10    0.441075\n",
       "2015-12-11    0.293527\n",
       "2015-12-14    0.151742\n",
       "2015-12-15    0.728426\n",
       "2015-12-16    0.362874\n",
       "2015-12-17    0.999061\n",
       "2015-12-18    0.649244\n",
       "2015-12-21    0.307465\n",
       "2015-12-22    0.069167\n",
       "2015-12-23    0.308205\n",
       "2015-12-24    0.652168\n",
       "2015-12-25    0.921597\n",
       "2015-12-28    0.589435\n",
       "2015-12-29    0.751209\n",
       "2015-12-30    0.832863\n",
       "2015-12-31    0.686496\n",
       "Freq: B, Length: 261, dtype: float64"
      ]
     },
     "execution_count": 10,
     "metadata": {},
     "output_type": "execute_result"
    }
   ],
   "source": [
    "# Ques 33 : Create a DatetimeIndex that contains each business day of 2015 and use it to index a Series of random numbers. \n",
    "# Let's call this Series s.\n",
    "\n",
    "# Create data time index using date_range() from pandas.\n",
    "# Ref: https://stackoverflow.com/questions/29370057/select-dataframe-rows-between-two-dates\n",
    "# Ref: https://pandas.pydata.org/pandas-docs/stable/user_guide/timeseries.html\n",
    "\n",
    "date_time_2015 = pd.date_range(start = '2015-01-01', end= '2015-12-31', freq = 'B') # Lists all the business days\n",
    "#date_time_2015\n",
    "\n",
    "# Create a series of random numbers with date_time_2015 as index\n",
    "# Using numpy random number generator\n",
    "series_date = pd.Series(np.random.rand(len(date_time_2015)), index = date_time_2015)\n",
    "print(series_date)"
   ]
  },
  {
   "cell_type": "code",
   "execution_count": 13,
   "metadata": {},
   "outputs": [
    {
     "name": "stdout",
     "output_type": "stream",
     "text": [
      "28.167000376008453\n"
     ]
    }
   ],
   "source": [
    "# Ques 34 :  Find the sum of the values in s for every Wednesday.\n",
    "\n",
    "# Ref: https://stackoverflow.com/questions/28009370/get-weekday-day-of-week-for-datetime-column-of-dataframe\n",
    "sum_wednesday = series_date[series_date.index.weekday == 2].sum()\n",
    "print(sum_wednesday)"
   ]
  },
  {
   "cell_type": "code",
   "execution_count": 18,
   "metadata": {},
   "outputs": [
    {
     "name": "stdout",
     "output_type": "stream",
     "text": [
      "2015-01-31    0.543966\n",
      "2015-02-28    0.562684\n",
      "2015-03-31    0.603468\n",
      "2015-04-30    0.474859\n",
      "2015-05-31    0.475456\n",
      "2015-06-30    0.538667\n",
      "2015-07-31    0.382193\n",
      "2015-08-31    0.479691\n",
      "2015-09-30    0.585126\n",
      "2015-10-31    0.522208\n",
      "2015-11-30    0.644505\n",
      "2015-12-31    0.524572\n",
      "Freq: M, dtype: float64\n"
     ]
    }
   ],
   "source": [
    "# Ques 35: For each calendar month in s, find the mean of values.\n",
    "\n",
    "mean_calendar_month = series_date[series_date.index.month].mean()\n",
    "#mean_calendar_month\n",
    "''' The above approach gave the mean of all the months together'''\n",
    "\n",
    "# To get mean of all the months separately, .resample() is used\n",
    "# Ref: https://stackoverflow.com/questions/42191697/resample-daily-data-to-monthly-with-pandas-date-formatting\n",
    "\n",
    "mean_calendar_month = series_date.resample('M').mean()\n",
    "print(mean_calendar_month)"
   ]
  },
  {
   "cell_type": "code",
   "execution_count": 24,
   "metadata": {},
   "outputs": [
    {
     "name": "stdout",
     "output_type": "stream",
     "text": [
      "2015-01-31   2015-01-12\n",
      "2015-05-31   2015-05-12\n",
      "2015-09-30   2015-08-06\n",
      "2016-01-31   2015-12-17\n",
      "dtype: datetime64[ns]\n"
     ]
    }
   ],
   "source": [
    "# Ques 36: For each group of four consecutive calendar months in s, find the date on which the highest value occurred\n",
    "\n",
    "# We have to group the calendar months in series_date\n",
    "# 'M' denotes months for frequency, providing 4M means 4 continuous/consecutive months\n",
    "# pandas idxmax() returns the maximum value first\n",
    "print(series_date.groupby(pd.Grouper(freq = '4M')).idxmax())\n"
   ]
  },
  {
   "cell_type": "code",
   "execution_count": 25,
   "metadata": {},
   "outputs": [
    {
     "data": {
      "text/plain": [
       "DatetimeIndex(['2015-01-15', '2015-02-19', '2015-03-19', '2015-04-16',\n",
       "               '2015-05-21', '2015-06-18', '2015-07-16', '2015-08-20',\n",
       "               '2015-09-17', '2015-10-15', '2015-11-19', '2015-12-17',\n",
       "               '2016-01-21', '2016-02-18', '2016-03-17', '2016-04-21',\n",
       "               '2016-05-19', '2016-06-16', '2016-07-21', '2016-08-18',\n",
       "               '2016-09-15', '2016-10-20', '2016-11-17', '2016-12-15'],\n",
       "              dtype='datetime64[ns]', freq='WOM-3THU')"
      ]
     },
     "execution_count": 25,
     "metadata": {},
     "output_type": "execute_result"
    }
   ],
   "source": [
    "# Ques 37 : Create a DateTimeIndex consisting of the third Thursday in each month for the years 2015 and 2016.\n",
    "\n",
    "# Using similar idea from Ques 33 of date_range\n",
    "# Frequency  will be third thursday = 3THU, WOM = week of month\n",
    "# Ref: https://github.com/pandas-dev/pandas/issues/2289#issuecomment-269616457\n",
    "\n",
    "date_2015_2016 = pd.date_range(start = '2015-01-01', end = '2016-12-31', freq= 'WOM-3THU')\n",
    "print(date_2015_2016)"
   ]
  },
  {
   "cell_type": "code",
   "execution_count": 65,
   "metadata": {},
   "outputs": [
    {
     "name": "stdout",
     "output_type": "stream",
     "text": [
      "0    10045\n",
      "1    10055\n",
      "2    10065\n",
      "3    10075\n",
      "4    10085\n",
      "Name: FlightNumber, dtype: int32\n"
     ]
    }
   ],
   "source": [
    "# Ques 38: Some values in the the FlightNumber column are missing. These numbers are meant to increase by 10 with\n",
    "#each row so 10055 and 10075 need to be put in place. \n",
    "#Fill in these missing numbers and make the column an integer column (instead of a float column).\n",
    "\n",
    "df = pd.DataFrame({'From_To': ['LoNDon_paris', 'MAdrid_miLAN', 'londON_StockhOlm', \n",
    "                               'Budapest_PaRis', 'Brussels_londOn'],\n",
    "              'FlightNumber': [10045, np.nan, 10065, np.nan, 10085],\n",
    "              'RecentDelays': [[23, 47], [], [24, 43, 87], [13], [67, 32]],\n",
    "                   'Airline': ['KLM(!)', '<Air France> (12)', '(British Airways. )', \n",
    "                               '12. Air France', '\"Swiss Air\"']})\n",
    "\n",
    "# .astype(int) can convert the float column to int column\n",
    "# Since we are dealing only with a particular column, we will just access that column\n",
    "# interpolate is a very useful function to fill in the gaps between a sequence, in this case\n",
    "# the increment in flight number happens by 10. method is linear by default which works perfect for this question\n",
    "df['FlightNumber'] = df['FlightNumber'].interpolate().astype(int)\n",
    "print(df['FlightNumber'])\n"
   ]
  },
  {
   "cell_type": "code",
   "execution_count": 63,
   "metadata": {},
   "outputs": [
    {
     "name": "stdout",
     "output_type": "stream",
     "text": [
      "       From         To\n",
      "0    LoNDon      paris\n",
      "1    MAdrid      miLAN\n",
      "2    londON  StockhOlm\n",
      "3  Budapest      PaRis\n",
      "4  Brussels     londOn\n"
     ]
    }
   ],
   "source": [
    "# Ques 39: The From_To column would be better as two separate columns! Split each string on the underscore \n",
    "# delimiter _ to give a new temporary DataFrame with the correct values. \n",
    "# Assign the correct column names to this temporary DataFrame.\n",
    "\n",
    "# Using str.split('_') on From to column as accessing one column of a dataframe is a series\n",
    "\n",
    "temp_df = df.From_To.str.split('_', expand = True)\n",
    "\n",
    "# assigning the header to temp_df columns\n",
    "temp_df.columns = ['From', 'To']\n",
    "print(temp_df)"
   ]
  },
  {
   "cell_type": "code",
   "execution_count": 64,
   "metadata": {},
   "outputs": [
    {
     "name": "stdout",
     "output_type": "stream",
     "text": [
      "       From         To\n",
      "0    London      Paris\n",
      "1    Madrid      Milan\n",
      "2    London  Stockholm\n",
      "3  Budapest      Paris\n",
      "4  Brussels     London\n"
     ]
    }
   ],
   "source": [
    "# Ques 40: Notice how the capitalisation of the city names is all mixed up in this temporary DataFrame. \n",
    "# Standardise the strings so that only the first letter is uppercase (e.g. \"londON\" should become \"London\".)\n",
    "\n",
    "# Ref: https://www.geeksforgeeks.org/string-capitalize-python/\n",
    "\n",
    "temp_df['From'] = temp_df['From'].str.capitalize()\n",
    "temp_df['To'] = temp_df['To'].str.capitalize()\n",
    "print(temp_df)\n"
   ]
  },
  {
   "cell_type": "code",
   "execution_count": 67,
   "metadata": {},
   "outputs": [
    {
     "name": "stdout",
     "output_type": "stream",
     "text": [
      "               Airline  FlightNumber  RecentDelays      From         To\n",
      "0               KLM(!)       10045.0      [23, 47]    London      Paris\n",
      "1    <Air France> (12)           NaN            []    Madrid      Milan\n",
      "2  (British Airways. )       10065.0  [24, 43, 87]    London  Stockholm\n",
      "3       12. Air France           NaN          [13]  Budapest      Paris\n",
      "4          \"Swiss Air\"       10085.0      [67, 32]  Brussels     London\n"
     ]
    }
   ],
   "source": [
    "# Ques 41: Delete the From_To column from df and attach the temporary DataFrame from the previous questions.\n",
    "df = pd.DataFrame({'From_To': ['LoNDon_paris', 'MAdrid_miLAN', 'londON_StockhOlm', \n",
    "                               'Budapest_PaRis', 'Brussels_londOn'],\n",
    "              'FlightNumber': [10045, np.nan, 10065, np.nan, 10085],\n",
    "              'RecentDelays': [[23, 47], [], [24, 43, 87], [13], [67, 32]],\n",
    "                   'Airline': ['KLM(!)', '<Air France> (12)', '(British Airways. )', \n",
    "                               '12. Air France', '\"Swiss Air\"']})\n",
    "# Deleting a column from dataframe\n",
    "df = df.drop(['From_To'], axis=1)\n",
    "\n",
    "# Attach the temp_df to df\n",
    "\n",
    "df = df.join(temp_df)\n",
    "print(df)\n"
   ]
  },
  {
   "cell_type": "code",
   "execution_count": 54,
   "metadata": {},
   "outputs": [
    {
     "name": "stdout",
     "output_type": "stream",
     "text": [
      "0                KLM\n",
      "1         Air France\n",
      "2    British Airways\n",
      "3         Air France\n",
      "4          Swiss Air\n",
      "Name: Airline, dtype: object\n"
     ]
    }
   ],
   "source": [
    "# Ques 42: In the Airline column, you can see some extra puctuation and symbols have appeared around the airline names. \n",
    "# Pull out just the airline name. E.g. '(British Airways. )' should become 'British Airways'.\n",
    "\n",
    "'''Using simple regex for capturing just the letters, both uppercase and lowercase, and then strip() any leading characters or spaces'''\n",
    "df['Airline'] = df['Airline'].str.extract('([a-zA-Z\\s]+)', expand = False).str.strip()\n",
    "print(df['Airline'])"
   ]
  },
  {
   "cell_type": "code",
   "execution_count": 70,
   "metadata": {},
   "outputs": [
    {
     "name": "stdout",
     "output_type": "stream",
     "text": [
      "               Airline  FlightNumber           From_To  delay_1  delay_2  \\\n",
      "0               KLM(!)       10045.0      LoNDon_paris     23.0     47.0   \n",
      "1    <Air France> (12)           NaN      MAdrid_miLAN      NaN      NaN   \n",
      "2  (British Airways. )       10065.0  londON_StockhOlm     24.0     43.0   \n",
      "3       12. Air France           NaN    Budapest_PaRis     13.0      NaN   \n",
      "4          \"Swiss Air\"       10085.0   Brussels_londOn     67.0     32.0   \n",
      "\n",
      "   delay_3  \n",
      "0      NaN  \n",
      "1      NaN  \n",
      "2     87.0  \n",
      "3      NaN  \n",
      "4      NaN  \n"
     ]
    }
   ],
   "source": [
    "# Ques 43: In the RecentDelays column, the values have been entered into the DataFrame as a list.\n",
    "#We would like each first value in its own column, each second value in its own column, and so on. \n",
    "#If there isn't an Nth value, the value should be NaN.Expand the Series of lists into a DataFrame named delays,\n",
    "#rename the columns delay_1, delay_2, etc. and replace the unwanted RecentDelays column in df with delays.\n",
    "\n",
    "df = pd.DataFrame({'From_To': ['LoNDon_paris', 'MAdrid_miLAN', 'londON_StockhOlm', \n",
    "                               'Budapest_PaRis', 'Brussels_londOn'],\n",
    "              'FlightNumber': [10045, np.nan, 10065, np.nan, 10085],\n",
    "              'RecentDelays': [[23, 47], [], [24, 43, 87], [13], [67, 32]],\n",
    "                   'Airline': ['KLM(!)', '<Air France> (12)', '(British Airways. )', \n",
    "                               '12. Air France', '\"Swiss Air\"']})\n",
    "# Ref: https://stackoverflow.com/questions/27263805/pandas-when-cell-contents-are-lists-create-a-row-for-each-element-in-the-list\n",
    "\n",
    "'''In the Ref used for this ques, the list is split into different rows using apply(). SOmething similar is used for this question as follows'''\n",
    "\n",
    "# Implement apply() on pd.Series as mentioned in the question\n",
    "delays = df['RecentDelays'].apply(pd.Series)\n",
    "#print(delays)\n",
    "\n",
    "# format the columns ranging from 1 to number of columns in delays\n",
    "delays.columns = ['delay_{}'.format(n) for n in range(1, len(delays.columns)+1)]\n",
    "\n",
    "# Drop unwanted RecentDelays column and replace with new delays values\n",
    "df = df.drop('RecentDelays', axis=1).join(delays)\n",
    "print(df) "
   ]
  },
  {
   "cell_type": "code",
   "execution_count": 74,
   "metadata": {},
   "outputs": [
    {
     "name": "stdout",
     "output_type": "stream",
     "text": [
      "A  0    0.382810\n",
      "   1    0.588719\n",
      "   2    0.064195\n",
      "   3    0.420859\n",
      "   4    0.705326\n",
      "   5    0.044059\n",
      "   6    0.607952\n",
      "   7    0.467627\n",
      "   8    0.439214\n",
      "   9    0.816617\n",
      "B  0    0.787641\n",
      "   1    0.110735\n",
      "   2    0.020568\n",
      "   3    0.175975\n",
      "   4    0.094446\n",
      "   5    0.011379\n",
      "   6    0.886571\n",
      "   7    0.752658\n",
      "   8    0.743231\n",
      "   9    0.031354\n",
      "C  0    0.408578\n",
      "   1    0.151527\n",
      "   2    0.901703\n",
      "   3    0.060354\n",
      "   4    0.606756\n",
      "   5    0.033458\n",
      "   6    0.518055\n",
      "   7    0.604593\n",
      "   8    0.499020\n",
      "   9    0.453882\n",
      "dtype: float64\n"
     ]
    }
   ],
   "source": [
    "# Ques 44: Given the lists letters = ['A', 'B', 'C'] and numbers = list(range(10)), \n",
    "# construct a MultiIndex object from the product of the two lists. \n",
    "# Use it to index a Series of random numbers. Call this Series s.\n",
    "\n",
    "letters = ['A', 'B', 'C']\n",
    "numbers = list(range(10))\n",
    "\n",
    "# Ref: https://pandas.pydata.org/pandas-docs/stable/reference/api/pandas.MultiIndex.from_product.html\n",
    "\n",
    "mi_prod = pd.MultiIndex.from_product([letters, numbers])\n",
    "#mi_prod\n",
    "\n",
    "# Create a series of random numbers with mi_prod as index. \n",
    "# We need 30 random numbers because i_prod has 30 values, otherwise we get ValueERror\n",
    "s = pd.Series(np.random.rand(30), index=mi_prod)\n",
    "print(s)"
   ]
  },
  {
   "cell_type": "code",
   "execution_count": 75,
   "metadata": {},
   "outputs": [
    {
     "name": "stdout",
     "output_type": "stream",
     "text": [
      "True\n"
     ]
    }
   ],
   "source": [
    "# Ques 45: Check the index of s is lexicographically sorted \n",
    "#(this is a necessary proprty for indexing to work correctly with a MultiIndex).\n",
    "\n",
    "# Ref: https://stackoverflow.com/questions/31427466/ensuring-lexicographical-sort-in-pandas-multiindex\n",
    "\n",
    "print(s.index.is_lexsorted())\n"
   ]
  },
  {
   "cell_type": "code",
   "execution_count": 78,
   "metadata": {},
   "outputs": [
    {
     "name": "stdout",
     "output_type": "stream",
     "text": [
      "A  1    0.588719\n",
      "   3    0.420859\n",
      "   6    0.607952\n",
      "B  1    0.110735\n",
      "   3    0.175975\n",
      "   6    0.886571\n",
      "C  1    0.151527\n",
      "   3    0.060354\n",
      "   6    0.518055\n",
      "dtype: float64\n"
     ]
    }
   ],
   "source": [
    "# Ques 46: Select the labels 1, 3 and 6 from the second level of the MultiIndexed Series.\n",
    "\n",
    "'''This can be solved simmply by using .loc function and provide 1,3,6 as a list for second level'''\n",
    "print(s.loc[:,[1,3,6]])"
   ]
  },
  {
   "cell_type": "code",
   "execution_count": 80,
   "metadata": {},
   "outputs": [
    {
     "name": "stdout",
     "output_type": "stream",
     "text": [
      "A  5    0.044059\n",
      "   6    0.607952\n",
      "   7    0.467627\n",
      "   8    0.439214\n",
      "   9    0.816617\n",
      "B  5    0.011379\n",
      "   6    0.886571\n",
      "   7    0.752658\n",
      "   8    0.743231\n",
      "   9    0.031354\n",
      "dtype: float64\n"
     ]
    }
   ],
   "source": [
    "# Ques 47: Slice the Series s; slice up to label 'B' for the first level and from label 5 onwards for the second level.\n",
    "\n",
    "'''At first we use .loc() to get to first and second level, then use slice() to get labels'''\n",
    "\n",
    "print(s.loc[slice(None, 'B'), slice(5, None)])"
   ]
  },
  {
   "cell_type": "code",
   "execution_count": 81,
   "metadata": {},
   "outputs": [
    {
     "data": {
      "text/plain": [
       "A    4.537378\n",
       "B    3.614558\n",
       "C    4.237925\n",
       "dtype: float64"
      ]
     },
     "execution_count": 81,
     "metadata": {},
     "output_type": "execute_result"
    }
   ],
   "source": [
    "# Ques 48:  Sum the values in s for each label in the first level \n",
    "# (you should have Series giving you a total for labels A, B and C).\n",
    "\n",
    "# Ref: https://pandas.pydata.org/pandas-docs/stable/reference/api/pandas.DataFrame.sum.html\n",
    "'''passing level = 0 gets the first level of multiindex series'''\n",
    "print(s.sum(level = 0))"
   ]
  },
  {
   "cell_type": "code",
   "execution_count": 82,
   "metadata": {},
   "outputs": [
    {
     "name": "stdout",
     "output_type": "stream",
     "text": [
      "0    1.579029\n",
      "1    0.850982\n",
      "2    0.986466\n",
      "3    0.657188\n",
      "4    1.406528\n",
      "5    0.088896\n",
      "6    2.012578\n",
      "7    1.824877\n",
      "8    1.681465\n",
      "9    1.301853\n",
      "dtype: float64\n"
     ]
    }
   ],
   "source": [
    "# Ques 49: Suppose that sum() (and other methods) did not accept a level keyword argument. \n",
    "# How else could you perform the equivalent of s.sum(level=1)?\n",
    "\n",
    "#Ref: http://www.datasciencemadesimple.com/reshape-using-stack-unstack-function-pandas-python/\n",
    "\n",
    "'''We can reshape the series using unstack() and then calculate sum on axis 0'''\n",
    "print(s.unstack().sum(axis=0))"
   ]
  },
  {
   "cell_type": "code",
   "execution_count": 86,
   "metadata": {},
   "outputs": [
    {
     "name": "stdout",
     "output_type": "stream",
     "text": [
      "0  A    0.382810\n",
      "1  A    0.588719\n",
      "2  A    0.064195\n",
      "3  A    0.420859\n",
      "4  A    0.705326\n",
      "5  A    0.044059\n",
      "6  A    0.607952\n",
      "7  A    0.467627\n",
      "8  A    0.439214\n",
      "9  A    0.816617\n",
      "0  B    0.787641\n",
      "1  B    0.110735\n",
      "2  B    0.020568\n",
      "3  B    0.175975\n",
      "4  B    0.094446\n",
      "5  B    0.011379\n",
      "6  B    0.886571\n",
      "7  B    0.752658\n",
      "8  B    0.743231\n",
      "9  B    0.031354\n",
      "0  C    0.408578\n",
      "1  C    0.151527\n",
      "2  C    0.901703\n",
      "3  C    0.060354\n",
      "4  C    0.606756\n",
      "5  C    0.033458\n",
      "6  C    0.518055\n",
      "7  C    0.604593\n",
      "8  C    0.499020\n",
      "9  C    0.453882\n",
      "dtype: float64\n",
      "False\n",
      "0  A    0.382810\n",
      "   B    0.787641\n",
      "   C    0.408578\n",
      "1  A    0.588719\n",
      "   B    0.110735\n",
      "   C    0.151527\n",
      "2  A    0.064195\n",
      "   B    0.020568\n",
      "   C    0.901703\n",
      "3  A    0.420859\n",
      "   B    0.175975\n",
      "   C    0.060354\n",
      "4  A    0.705326\n",
      "   B    0.094446\n",
      "   C    0.606756\n",
      "5  A    0.044059\n",
      "   B    0.011379\n",
      "   C    0.033458\n",
      "6  A    0.607952\n",
      "   B    0.886571\n",
      "   C    0.518055\n",
      "7  A    0.467627\n",
      "   B    0.752658\n",
      "   C    0.604593\n",
      "8  A    0.439214\n",
      "   B    0.743231\n",
      "   C    0.499020\n",
      "9  A    0.816617\n",
      "   B    0.031354\n",
      "   C    0.453882\n",
      "dtype: float64\n"
     ]
    }
   ],
   "source": [
    "# Ques 50: Exchange the levels of the MultiIndex so we have an index of the form (letters, numbers). \n",
    "# Is this new Series properly lexsorted? If not, sort it.\n",
    "\n",
    "# Ref: https://pandas.pydata.org/pandas-docs/stable/reference/api/pandas.DataFrame.swaplevel.html\n",
    "\n",
    "'''Using swaplevel() to exchange the levels of multiindex seriex, is_lex_sorted() to check the order of sort and if not, \n",
    "then use sort_index to correctly sort the series'''\n",
    "\n",
    "new_series = s.swaplevel(0,1)\n",
    "print(new_series)\n",
    "\n",
    "# Checking the sort order\n",
    "print(new_series.index.is_lexsorted()) # Not sorted lexicographically\n",
    "\n",
    "# Sorting the new_series\n",
    "new_series = new_series.sort_index()\n",
    "print(new_series)"
   ]
  },
  {
   "cell_type": "code",
   "execution_count": null,
   "metadata": {},
   "outputs": [],
   "source": []
  }
 ],
 "metadata": {
  "kernelspec": {
   "display_name": "Python 3",
   "language": "python",
   "name": "python3"
  },
  "language_info": {
   "codemirror_mode": {
    "name": "ipython",
    "version": 3
   },
   "file_extension": ".py",
   "mimetype": "text/x-python",
   "name": "python",
   "nbconvert_exporter": "python",
   "pygments_lexer": "ipython3",
   "version": "3.5.0"
  }
 },
 "nbformat": 4,
 "nbformat_minor": 2
}
